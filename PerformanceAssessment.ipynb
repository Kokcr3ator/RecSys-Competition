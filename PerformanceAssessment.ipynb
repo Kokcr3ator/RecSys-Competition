{
 "cells": [
  {
   "cell_type": "markdown",
   "metadata": {},
   "source": [
    "# Import the Libraries"
   ]
  },
  {
   "cell_type": "code",
   "execution_count": 12,
   "metadata": {},
   "outputs": [],
   "source": [
    "import pandas as pd\n",
    "import numpy as np\n",
    "import matplotlib.pyplot as pyplot\n",
    "from Evaluation.Evaluator import EvaluatorHoldout\n",
    "from Data_manager.split_functions.split_train_validation_random_holdout import split_train_in_two_percentage_global_sample\n",
    "# Numpy cries because it is an old code so we monkey patch it\n",
    "np.int = int\n",
    "np.bool = bool\n",
    "np.float = float"
   ]
  },
  {
   "cell_type": "markdown",
   "metadata": {},
   "source": [
    "# Import the Dataset"
   ]
  },
  {
   "cell_type": "code",
   "execution_count": 13,
   "metadata": {},
   "outputs": [],
   "source": [
    "URM_all_dataframe = pd.read_csv('data_train.csv', \n",
    "                                sep=\",\", \n",
    "                                header= 0, \n",
    "                                dtype={0:int, 1:int, 2:float},\n",
    "                                engine='python')\n",
    "\n",
    "URM_all_dataframe.columns = [\"UserID\", \"ItemID\", \"Interaction\"]"
   ]
  },
  {
   "cell_type": "markdown",
   "metadata": {},
   "source": [
    "### Building the sparse COO matrix using URM"
   ]
  },
  {
   "cell_type": "code",
   "execution_count": 14,
   "metadata": {},
   "outputs": [],
   "source": [
    "import scipy.sparse as sps\n",
    "# Build the COO sparse matrix associated with the URM\n",
    "URM_all = sps.coo_matrix((URM_all_dataframe[\"Interaction\"].values, \n",
    "                          (URM_all_dataframe[\"UserID\"].values, URM_all_dataframe[\"ItemID\"].values))) ## .values --> numpy array, df[..] --> pd series"
   ]
  },
  {
   "cell_type": "markdown",
   "metadata": {},
   "source": [
    "### Split the data in train and validation set"
   ]
  },
  {
   "cell_type": "code",
   "execution_count": 15,
   "metadata": {},
   "outputs": [
    {
     "name": "stdout",
     "output_type": "stream",
     "text": [
      "Warning: 597 (4.58 %) of 13025 users have no train items\n",
      "Warning: 2571 (19.74 %) of 13025 users have no sampled items\n",
      "EvaluatorHoldout: Ignoring 2571 (19.7%) Users that have less than 1 test interactions\n"
     ]
    }
   ],
   "source": [
    "URM_train, URM_test = split_train_in_two_percentage_global_sample(URM_all, train_percentage = 0.80)\n",
    "evaluator_test = EvaluatorHoldout(URM_test, cutoff_list=[10])"
   ]
  },
  {
   "cell_type": "markdown",
   "metadata": {},
   "source": [
    "# Implement the recommender\n"
   ]
  },
  {
   "cell_type": "code",
   "execution_count": 16,
   "metadata": {},
   "outputs": [],
   "source": [
    "from Recommenders.GraphBased.RP3betaRecommender import RP3betaRecommender"
   ]
  },
  {
   "cell_type": "code",
   "execution_count": 17,
   "metadata": {},
   "outputs": [
    {
     "name": "stdout",
     "output_type": "stream",
     "text": [
      "RP3betaRecommender: URM Detected 597 ( 4.6%) users with no interactions.\n",
      "RP3betaRecommender: URM Detected 234 ( 1.0%) items with no interactions.\n"
     ]
    },
    {
     "data": {
      "text/plain": [
       "{'alpha': 0.23983143272375212,\n",
       " 'beta': 0.21842056439651045,\n",
       " 'topK': 46,\n",
       " 'implicit': True,\n",
       " 'min_rating': 1}"
      ]
     },
     "execution_count": 17,
     "metadata": {},
     "output_type": "execute_result"
    }
   ],
   "source": [
    "recommender = RP3betaRecommender(URM_train)\n",
    "{'alpha': 0.23983143272375212, 'beta': 0.21842056439651045, 'topK': 46, 'implicit': True, 'min_rating': 1}\n"
   ]
  },
  {
   "cell_type": "markdown",
   "metadata": {},
   "source": [
    "### The coefficient gamma represents how much in proportion we want to use TopPop()"
   ]
  },
  {
   "cell_type": "code",
   "execution_count": 8,
   "metadata": {},
   "outputs": [
    {
     "name": "stdout",
     "output_type": "stream",
     "text": [
      "RP3betaRecommender: Similarity column 22348 (100.0%), 2621.45 column/sec. Elapsed time 8.53 sec\n"
     ]
    }
   ],
   "source": [
    "recommender.fit(alpha = 0.23983143272375212, beta = 0.21842056439651045, topK = 46, implicit = True, min_rating = 1)"
   ]
  },
  {
   "cell_type": "code",
   "execution_count": 9,
   "metadata": {},
   "outputs": [
    {
     "name": "stdout",
     "output_type": "stream",
     "text": [
      "EvaluatorHoldout: Processed 10465 (100.0%) in 12.36 sec. Users per second: 847\n"
     ]
    }
   ],
   "source": [
    "result_df, _ = evaluator_test.evaluateRecommender(recommender)"
   ]
  },
  {
   "cell_type": "code",
   "execution_count": 10,
   "metadata": {},
   "outputs": [
    {
     "data": {
      "text/html": [
       "<div>\n",
       "<style scoped>\n",
       "    .dataframe tbody tr th:only-of-type {\n",
       "        vertical-align: middle;\n",
       "    }\n",
       "\n",
       "    .dataframe tbody tr th {\n",
       "        vertical-align: top;\n",
       "    }\n",
       "\n",
       "    .dataframe thead th {\n",
       "        text-align: right;\n",
       "    }\n",
       "</style>\n",
       "<table border=\"1\" class=\"dataframe\">\n",
       "  <thead>\n",
       "    <tr style=\"text-align: right;\">\n",
       "      <th></th>\n",
       "      <th>PRECISION</th>\n",
       "      <th>PRECISION_RECALL_MIN_DEN</th>\n",
       "      <th>RECALL</th>\n",
       "      <th>MAP</th>\n",
       "      <th>MAP_MIN_DEN</th>\n",
       "      <th>MRR</th>\n",
       "      <th>NDCG</th>\n",
       "      <th>F1</th>\n",
       "      <th>HIT_RATE</th>\n",
       "      <th>ARHR_ALL_HITS</th>\n",
       "      <th>...</th>\n",
       "      <th>COVERAGE_USER</th>\n",
       "      <th>COVERAGE_USER_HIT</th>\n",
       "      <th>USERS_IN_GT</th>\n",
       "      <th>DIVERSITY_GINI</th>\n",
       "      <th>SHANNON_ENTROPY</th>\n",
       "      <th>RATIO_DIVERSITY_HERFINDAHL</th>\n",
       "      <th>RATIO_DIVERSITY_GINI</th>\n",
       "      <th>RATIO_SHANNON_ENTROPY</th>\n",
       "      <th>RATIO_AVERAGE_POPULARITY</th>\n",
       "      <th>RATIO_NOVELTY</th>\n",
       "    </tr>\n",
       "    <tr>\n",
       "      <th>cutoff</th>\n",
       "      <th></th>\n",
       "      <th></th>\n",
       "      <th></th>\n",
       "      <th></th>\n",
       "      <th></th>\n",
       "      <th></th>\n",
       "      <th></th>\n",
       "      <th></th>\n",
       "      <th></th>\n",
       "      <th></th>\n",
       "      <th></th>\n",
       "      <th></th>\n",
       "      <th></th>\n",
       "      <th></th>\n",
       "      <th></th>\n",
       "      <th></th>\n",
       "      <th></th>\n",
       "      <th></th>\n",
       "      <th></th>\n",
       "      <th></th>\n",
       "      <th></th>\n",
       "    </tr>\n",
       "  </thead>\n",
       "  <tbody>\n",
       "    <tr>\n",
       "      <th>10</th>\n",
       "      <td>0.093951</td>\n",
       "      <td>0.163515</td>\n",
       "      <td>0.138367</td>\n",
       "      <td>0.048316</td>\n",
       "      <td>0.083509</td>\n",
       "      <td>0.26681</td>\n",
       "      <td>0.149209</td>\n",
       "      <td>0.111913</td>\n",
       "      <td>0.513521</td>\n",
       "      <td>0.35421</td>\n",
       "      <td>...</td>\n",
       "      <td>0.803455</td>\n",
       "      <td>0.412591</td>\n",
       "      <td>0.803455</td>\n",
       "      <td>0.086039</td>\n",
       "      <td>10.684712</td>\n",
       "      <td>0.998317</td>\n",
       "      <td>0.248477</td>\n",
       "      <td>0.82306</td>\n",
       "      <td>1.578508</td>\n",
       "      <td>0.308876</td>\n",
       "    </tr>\n",
       "  </tbody>\n",
       "</table>\n",
       "<p>1 rows × 27 columns</p>\n",
       "</div>"
      ],
      "text/plain": [
       "       PRECISION PRECISION_RECALL_MIN_DEN    RECALL       MAP MAP_MIN_DEN  \\\n",
       "cutoff                                                                      \n",
       "10      0.093951                 0.163515  0.138367  0.048316    0.083509   \n",
       "\n",
       "            MRR      NDCG        F1  HIT_RATE ARHR_ALL_HITS  ...  \\\n",
       "cutoff                                                       ...   \n",
       "10      0.26681  0.149209  0.111913  0.513521       0.35421  ...   \n",
       "\n",
       "       COVERAGE_USER COVERAGE_USER_HIT USERS_IN_GT DIVERSITY_GINI  \\\n",
       "cutoff                                                              \n",
       "10          0.803455          0.412591    0.803455       0.086039   \n",
       "\n",
       "       SHANNON_ENTROPY RATIO_DIVERSITY_HERFINDAHL RATIO_DIVERSITY_GINI  \\\n",
       "cutoff                                                                   \n",
       "10           10.684712                   0.998317             0.248477   \n",
       "\n",
       "       RATIO_SHANNON_ENTROPY RATIO_AVERAGE_POPULARITY RATIO_NOVELTY  \n",
       "cutoff                                                               \n",
       "10                   0.82306                 1.578508      0.308876  \n",
       "\n",
       "[1 rows x 27 columns]"
      ]
     },
     "execution_count": 10,
     "metadata": {},
     "output_type": "execute_result"
    }
   ],
   "source": [
    "result_df"
   ]
  },
  {
   "cell_type": "code",
   "execution_count": 11,
   "metadata": {},
   "outputs": [
    {
     "data": {
      "text/plain": [
       "array([[0.        , 0.        , 0.        , ..., 0.        , 0.        ,\n",
       "        0.02575491]], dtype=float32)"
      ]
     },
     "execution_count": 11,
     "metadata": {},
     "output_type": "execute_result"
    }
   ],
   "source": []
  },
  {
   "cell_type": "code",
   "execution_count": 46,
   "metadata": {},
   "outputs": [
    {
     "name": "stdout",
     "output_type": "stream",
     "text": [
      "   user_id                                         item_list\n",
      "0        1           36 161 694 592 699 354 618 342 1481 403\n",
      "1        2             47 1095 17 27 42 28 1227 1522 1372 50\n",
      "2        3       59 857 3152 648 750 956 2925 1895 2172 1097\n",
      "3        4                 17 249 27 42 119 28 47 50 252 299\n",
      "4        5             77 131 170 66 60 1570 3063 5138 270 4\n",
      "5        6                886 351 9 35 168 692 330 546 14 16\n",
      "6        8        443 722 769 210 451 1155 480 121 1749 1996\n",
      "7        9              2821 12741 10108 8133 6415 2 4 1 3 7\n",
      "8       10  1446 1316 1816 1668 1674 1411 1382 809 2565 2145\n",
      "9       11                 955 346 627 681 67 41 99 25 31 40\n"
     ]
    }
   ],
   "source": [
    "def write_predictions(recommender_object, at=10):\n",
    "    prediction_df = pd.read_csv('data_target_users_test.csv', sep= \",\",\n",
    "                                header=0, \n",
    "                                dtype={0:int},\n",
    "                                engine='python')\n",
    "    users = np.array(prediction_df['user_id'])\n",
    "    scores = recommender_object._compute_item_score(users)\n",
    "    recommendations = np.array([' '.join(map(str, np.argsort(-scores[i])[:at])) for i in range(len(users))])\n",
    "    prediction_df['item_list'] = recommendations\n",
    "    print(prediction_df.head(10))\n",
    "    prediction_df.to_csv('submission.csv',index=False)\n",
    "\n",
    "write_predictions(recommender)"
   ]
  }
 ],
 "metadata": {
  "kernelspec": {
   "display_name": "Python 3",
   "language": "python",
   "name": "python3"
  },
  "language_info": {
   "codemirror_mode": {
    "name": "ipython",
    "version": 3
   },
   "file_extension": ".py",
   "mimetype": "text/x-python",
   "name": "python",
   "nbconvert_exporter": "python",
   "pygments_lexer": "ipython3",
   "version": "3.11.3"
  }
 },
 "nbformat": 4,
 "nbformat_minor": 2
}
